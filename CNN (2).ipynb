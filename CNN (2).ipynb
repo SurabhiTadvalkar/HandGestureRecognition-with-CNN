{
 "cells": [
  {
   "cell_type": "markdown",
   "id": "74684882-9540-4bce-9209-d704e55dc44d",
   "metadata": {},
   "source": [
    "Import the data set"
   ]
  },
  {
   "cell_type": "code",
   "execution_count": 23,
   "id": "d168bb89-b9b7-4bae-80c6-0c94d138c6e8",
   "metadata": {},
   "outputs": [],
   "source": [
    "import opendatasets as od"
   ]
  },
  {
   "cell_type": "code",
   "execution_count": 24,
   "id": "a25aa6c9-e6d8-4b16-811a-9c7d933a6cfe",
   "metadata": {},
   "outputs": [
    {
     "name": "stdout",
     "output_type": "stream",
     "text": [
      "Skipping, found downloaded files in \".\\leapgestrecog\" (use force=True to force download)\n"
     ]
    }
   ],
   "source": [
    "od.download(\"https://www.kaggle.com/datasets/gti-upm/leapgestrecog\")"
   ]
  },
  {
   "cell_type": "markdown",
   "id": "e5b2155f-8c4f-4db1-b50a-211eca07213b",
   "metadata": {},
   "source": [
    "Preprocess the images by converting them into numpy arrays and classify each image as a hand gesture"
   ]
  },
  {
   "cell_type": "code",
   "execution_count": 25,
   "id": "cb1bb246-4b17-46ce-89b8-c83204768218",
   "metadata": {},
   "outputs": [],
   "source": [
    "import os\n",
    "from os import listdir\n",
    "import numpy as np\n",
    "from numpy import asarray\n",
    "from skimage import io, transform\n",
    "\n",
    "arr_x = []\n",
    "arr_y = []\n",
    "\n",
    "ogfolder = os.listdir(\"leapGestRecog\")\n",
    "ogfolder = np.delete(ogfolder, -1)\n",
    "for folder_person in ogfolder:\n",
    "    label = 0\n",
    "    folder_person = \"leapGestRecog/\" + folder_person\n",
    "    for folder in os.listdir(folder_person):\n",
    "        folder = folder_person + \"/\" + folder\n",
    "        folder_images = os.listdir(folder)\n",
    "        if(folder_images[0] == '.ipynb_checkpoints'):\n",
    "            folder_images = np.delete(folder_images, 0)\n",
    "        for image in folder_images:\n",
    "            im = io.imread(folder + \"/\" + image)\n",
    "            im = im.reshape(240, 640, 1)\n",
    "            im = transform.resize(im, (32, 85, 1))\n",
    "            arr_x.append(asarray(im))\n",
    "            arr_y.append([label])\n",
    "        label +=1\n",
    "        \n",
    "X = np.array(arr_x) \n",
    "Y = np.array(arr_y)"
   ]
  },
  {
   "cell_type": "markdown",
   "id": "b5c3b973-d6bc-44a8-b7c0-f7fc49244265",
   "metadata": {},
   "source": [
    "Split the dataset into train and test"
   ]
  },
  {
   "cell_type": "code",
   "execution_count": 26,
   "id": "956831f9-ccb4-4b37-9e53-bbd4f7581e6a",
   "metadata": {},
   "outputs": [],
   "source": [
    "from sklearn.model_selection import train_test_split\n",
    "\n",
    "X_train, X_test, Y_train, Y_test = train_test_split(X, Y, test_size = .3, random_state = 10)\n"
   ]
  },
  {
   "cell_type": "markdown",
   "id": "97339119-620f-4fbe-bae5-e3a21298d844",
   "metadata": {},
   "source": [
    "Creating the model"
   ]
  },
  {
   "cell_type": "code",
   "execution_count": 27,
   "id": "5ad7404d-1580-4634-b8de-9456ae1f745a",
   "metadata": {},
   "outputs": [],
   "source": [
    "import tensorflow as tf\n",
    "from tensorflow.keras import layers, models\n",
    "\n",
    "model = models.Sequential()\n",
    "model.add(layers.Conv2D(32, (3, 3), activation='relu', input_shape=(32, 85, 1)))\n",
    "model.add(layers.MaxPooling2D((2, 2)))\n",
    "model.add(layers.Conv2D(64, (3, 3), activation='relu'))\n",
    "model.add(layers.MaxPooling2D((2, 2)))\n",
    "model.add(layers.Conv2D(64, (3, 3), activation='relu'))\n",
    "model.add(layers.Flatten())\n",
    "model.add(layers.Dense(64, activation='relu'))\n",
    "model.add(layers.Dense(10))"
   ]
  },
  {
   "cell_type": "code",
   "execution_count": 28,
   "id": "eddb3ed3-540e-44f1-94b9-582216e09a25",
   "metadata": {},
   "outputs": [
    {
     "name": "stdout",
     "output_type": "stream",
     "text": [
      "Model: \"sequential_2\"\n",
      "_________________________________________________________________\n",
      " Layer (type)                Output Shape              Param #   \n",
      "=================================================================\n",
      " conv2d_6 (Conv2D)           (None, 30, 83, 32)        320       \n",
      "                                                                 \n",
      " max_pooling2d_4 (MaxPooling  (None, 15, 41, 32)       0         \n",
      " 2D)                                                             \n",
      "                                                                 \n",
      " conv2d_7 (Conv2D)           (None, 13, 39, 64)        18496     \n",
      "                                                                 \n",
      " max_pooling2d_5 (MaxPooling  (None, 6, 19, 64)        0         \n",
      " 2D)                                                             \n",
      "                                                                 \n",
      " conv2d_8 (Conv2D)           (None, 4, 17, 64)         36928     \n",
      "                                                                 \n",
      " flatten_2 (Flatten)         (None, 4352)              0         \n",
      "                                                                 \n",
      " dense_4 (Dense)             (None, 64)                278592    \n",
      "                                                                 \n",
      " dense_5 (Dense)             (None, 10)                650       \n",
      "                                                                 \n",
      "=================================================================\n",
      "Total params: 334,986\n",
      "Trainable params: 334,986\n",
      "Non-trainable params: 0\n",
      "_________________________________________________________________\n"
     ]
    }
   ],
   "source": [
    "model.summary()"
   ]
  },
  {
   "cell_type": "markdown",
   "id": "e72be0ca-3fec-4abe-866d-d093e1243395",
   "metadata": {},
   "source": [
    "Splitting train set into train and validation. Compiling and fitting the model"
   ]
  },
  {
   "cell_type": "code",
   "execution_count": 29,
   "id": "a9772f70-ca30-40cc-8f2d-570becfcba31",
   "metadata": {},
   "outputs": [
    {
     "name": "stdout",
     "output_type": "stream",
     "text": [
      "Epoch 1/25\n",
      "307/307 [==============================] - 32s 90ms/step - loss: 0.5040 - accuracy: 0.8350 - val_loss: 0.0479 - val_accuracy: 0.9895\n",
      "Epoch 2/25\n",
      "307/307 [==============================] - 26s 86ms/step - loss: 0.0359 - accuracy: 0.9896 - val_loss: 0.0136 - val_accuracy: 0.9979\n",
      "Epoch 3/25\n",
      "307/307 [==============================] - 25s 81ms/step - loss: 0.0082 - accuracy: 0.9979 - val_loss: 0.0173 - val_accuracy: 0.9936\n",
      "Epoch 4/25\n",
      "307/307 [==============================] - 24s 79ms/step - loss: 0.0184 - accuracy: 0.9952 - val_loss: 0.0066 - val_accuracy: 0.9981\n",
      "Epoch 5/25\n",
      "307/307 [==============================] - 25s 80ms/step - loss: 0.0023 - accuracy: 0.9996 - val_loss: 0.0048 - val_accuracy: 0.9988\n",
      "Epoch 6/25\n",
      "307/307 [==============================] - 24s 79ms/step - loss: 6.1343e-04 - accuracy: 0.9998 - val_loss: 0.0044 - val_accuracy: 0.9988\n",
      "Epoch 7/25\n",
      "307/307 [==============================] - 24s 79ms/step - loss: 0.0057 - accuracy: 0.9981 - val_loss: 0.0197 - val_accuracy: 0.9950\n",
      "Epoch 8/25\n",
      "307/307 [==============================] - 25s 80ms/step - loss: 0.0229 - accuracy: 0.9940 - val_loss: 0.0065 - val_accuracy: 0.9981\n",
      "Epoch 9/25\n",
      "307/307 [==============================] - 25s 81ms/step - loss: 0.0012 - accuracy: 0.9994 - val_loss: 0.0059 - val_accuracy: 0.9988\n",
      "Epoch 10/25\n",
      "307/307 [==============================] - 26s 85ms/step - loss: 0.0034 - accuracy: 0.9990 - val_loss: 0.0025 - val_accuracy: 0.9993\n",
      "Epoch 11/25\n",
      "307/307 [==============================] - 24s 78ms/step - loss: 1.0683e-04 - accuracy: 1.0000 - val_loss: 0.0013 - val_accuracy: 0.9993\n",
      "Epoch 12/25\n",
      "307/307 [==============================] - 25s 81ms/step - loss: 3.6851e-05 - accuracy: 1.0000 - val_loss: 0.0018 - val_accuracy: 0.9993\n",
      "Epoch 13/25\n",
      "307/307 [==============================] - 25s 82ms/step - loss: 2.4507e-05 - accuracy: 1.0000 - val_loss: 0.0019 - val_accuracy: 0.9993\n",
      "Epoch 14/25\n",
      "307/307 [==============================] - 23s 75ms/step - loss: 1.7935e-05 - accuracy: 1.0000 - val_loss: 0.0018 - val_accuracy: 0.9993\n",
      "Epoch 15/25\n",
      "307/307 [==============================] - 24s 78ms/step - loss: 1.3756e-05 - accuracy: 1.0000 - val_loss: 0.0021 - val_accuracy: 0.9993\n",
      "Epoch 16/25\n",
      "307/307 [==============================] - 26s 84ms/step - loss: 1.0681e-05 - accuracy: 1.0000 - val_loss: 0.0020 - val_accuracy: 0.9993\n"
     ]
    }
   ],
   "source": [
    "part_train_x, val_X, part_train_y ,val_Y = train_test_split(X_train, Y_train, test_size = .3, random_state = 10)\n",
    "\n",
    "\n",
    "earlystopping = tf.keras.callbacks.EarlyStopping(monitor =\"val_loss\", \n",
    "                                        mode =\"min\", patience = 5, \n",
    "                                        restore_best_weights = True)\n",
    "\n",
    "model.compile(optimizer='adam',\n",
    "              loss=tf.keras.losses.SparseCategoricalCrossentropy(from_logits=True),\n",
    "              metrics=['accuracy'])\n",
    "\n",
    "history = model.fit(part_train_x, part_train_y, epochs=25, \n",
    "                    validation_data=(val_X, val_Y), callbacks = [earlystopping])"
   ]
  },
  {
   "cell_type": "markdown",
   "id": "ecab650d-8fb7-4cd5-a6d1-e08f5a8edff8",
   "metadata": {},
   "source": [
    "Plotting the model's loss and accuracy"
   ]
  },
  {
   "cell_type": "code",
   "execution_count": 30,
   "id": "dd26ddf8-aa00-4850-a7e0-9f0633360d54",
   "metadata": {},
   "outputs": [
    {
     "data": {
      "image/png": "[encoded data removed]",
      "text/plain": [
       "<Figure size 432x288 with 1 Axes>"
      ]
     },
     "metadata": {
      "needs_background": "light"
     },
     "output_type": "display_data"
    }
   ],
   "source": [
    "fig, ax = plt.subplots()\n",
    "ax.plot(history.history['accuracy'], label='accuracy')\n",
    "ax.plot(history.history['val_accuracy'], label = 'val_accuracy')\n",
    "leg = ax.legend();"
   ]
  },
  {
   "cell_type": "code",
   "execution_count": 31,
   "id": "ee057646-1037-41c7-a034-bc84ad3d31ee",
   "metadata": {},
   "outputs": [
    {
     "data": {
      "image/png": "[encoded data removed]",
      "text/plain": [
       "<Figure size 432x288 with 1 Axes>"
      ]
     },
     "metadata": {
      "needs_background": "light"
     },
     "output_type": "display_data"
    }
   ],
   "source": [
    "import matplotlib.pyplot as plt\n",
    "fig, ax = plt.subplots()\n",
    "ax.plot(history.history['loss'], label='loss')\n",
    "ax.plot(history.history['val_loss'], label = 'val_loss')\n",
    "leg = ax.legend();"
   ]
  },
  {
   "cell_type": "code",
   "execution_count": 32,
   "id": "c10c16e4-348c-4043-a0be-56d975dea324",
   "metadata": {},
   "outputs": [
    {
     "name": "stdout",
     "output_type": "stream",
     "text": [
      "188/188 - 5s - loss: 0.0055 - accuracy: 0.9995 - 5s/epoch - 26ms/step\n",
      "0.9994999766349792\n",
      "0.005492622498422861\n"
     ]
    }
   ],
   "source": [
    "test_loss, test_acc = model.evaluate(X_test,  Y_test, verbose=2)\n",
    "print(test_acc)\n",
    "print(test_loss)"
   ]
  }
 ],
 "metadata": {
  "kernelspec": {
   "display_name": "Python 3 (ipykernel)",
   "language": "python",
   "name": "python3"
  },
  "language_info": {
   "codemirror_mode": {
    "name": "ipython",
    "version": 3
   },
   "file_extension": ".py",
   "mimetype": "text/x-python",
   "name": "python",
   "nbconvert_exporter": "python",
   "pygments_lexer": "ipython3",
   "version": "3.9.7"
  }
 },
 "nbformat": 4,
 "nbformat_minor": 5
}
