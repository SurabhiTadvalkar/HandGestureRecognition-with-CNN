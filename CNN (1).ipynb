{
 "cells": [
  {
   "cell_type": "code",
   "execution_count": 16,
   "id": "d168bb89-b9b7-4bae-80c6-0c94d138c6e8",
   "metadata": {},
   "outputs": [],
   "source": [
    "import opendatasets as od"
   ]
  },
  {
   "cell_type": "code",
   "execution_count": 17,
   "id": "a25aa6c9-e6d8-4b16-811a-9c7d933a6cfe",
   "metadata": {},
   "outputs": [
    {
     "name": "stdout",
     "output_type": "stream",
     "text": [
      "Skipping, found downloaded files in \".\\leapgestrecog\" (use force=True to force download)\n"
     ]
    }
   ],
   "source": [
    "od.download(\"https://www.kaggle.com/datasets/gti-upm/leapgestrecog\")"
   ]
  },
  {
   "cell_type": "code",
   "execution_count": 18,
   "id": "cb1bb246-4b17-46ce-89b8-c83204768218",
   "metadata": {},
   "outputs": [],
   "source": [
    "import os\n",
    "from os import listdir\n",
    "import numpy as np\n",
    "from numpy import asarray\n",
    "from PIL import Image\n",
    "from skimage import io, transform\n",
    "import matplotlib.pyplot as plt\n",
    "\n",
    "arr_x = []\n",
    "arr_y = []\n",
    "\n",
    "ogfolder = os.listdir(\"leapGestRecog\")\n",
    "ogfolder = np.delete(ogfolder, -1)\n",
    "for folder_person in ogfolder:\n",
    "    label = 0\n",
    "    folder_person = \"leapGestRecog/\" + folder_person\n",
    "    for folder in os.listdir(folder_person):\n",
    "        folder = folder_person + \"/\" + folder\n",
    "        folder_images = os.listdir(folder)\n",
    "        if(folder_images[0] == '.ipynb_checkpoints'):\n",
    "            folder_images = np.delete(folder_images, 0)\n",
    "        for image in folder_images:\n",
    "            im = io.imread(folder + \"/\" + image)\n",
    "            im = im.reshape(240, 640, 1)\n",
    "            im = transform.resize(im, (32, 85, 1))\n",
    "            arr_x.append(asarray(im))\n",
    "            arr_y.append([label])\n",
    "        label +=1\n",
    "        \n",
    "X = np.array(arr_x) \n",
    "Y = np.array(arr_y)"
   ]
  },
  {
   "cell_type": "code",
   "execution_count": 19,
   "id": "9cebbea5-721f-484b-a3d4-70322737d2f1",
   "metadata": {},
   "outputs": [
    {
     "data": {
      "text/plain": [
       "array([[0],\n",
       "       [0],\n",
       "       [0],\n",
       "       ...,\n",
       "       [9],\n",
       "       [9],\n",
       "       [9]])"
      ]
     },
     "execution_count": 19,
     "metadata": {},
     "output_type": "execute_result"
    }
   ],
   "source": [
    "Y"
   ]
  },
  {
   "cell_type": "code",
   "execution_count": 20,
   "id": "956831f9-ccb4-4b37-9e53-bbd4f7581e6a",
   "metadata": {},
   "outputs": [],
   "source": [
    "from sklearn.model_selection import train_test_split\n",
    "\n",
    "X_train, X_test, Y_train, Y_test = train_test_split(X, Y, test_size = .3, random_state = 32)\n"
   ]
  },
  {
   "cell_type": "code",
   "execution_count": 21,
   "id": "5ad7404d-1580-4634-b8de-9456ae1f745a",
   "metadata": {},
   "outputs": [],
   "source": [
    "#Create the Convolutional Base \n",
    "import tensorflow as tf\n",
    "from tensorflow.keras import layers, models\n",
    "\n",
    "model = models.Sequential()\n",
    "model.add(layers.Conv2D(32, (3, 3), activation='relu', input_shape=(32, 85, 1)))\n",
    "model.add(layers.MaxPooling2D((2, 2)))\n",
    "model.add(layers.Conv2D(64, (3, 3), activation='relu'))\n",
    "model.add(layers.MaxPooling2D((2, 2)))\n",
    "model.add(layers.Conv2D(64, (3, 3), activation='relu'))"
   ]
  },
  {
   "cell_type": "code",
   "execution_count": 22,
   "id": "2fc13580-af83-4e70-a42e-ce2954a6bec2",
   "metadata": {},
   "outputs": [
    {
     "name": "stdout",
     "output_type": "stream",
     "text": [
      "Model: \"sequential_1\"\n",
      "_________________________________________________________________\n",
      " Layer (type)                Output Shape              Param #   \n",
      "=================================================================\n",
      " conv2d (Conv2D)             (None, 30, 83, 32)        320       \n",
      "                                                                 \n",
      " max_pooling2d (MaxPooling2D  (None, 15, 41, 32)       0         \n",
      " )                                                               \n",
      "                                                                 \n",
      " conv2d_1 (Conv2D)           (None, 13, 39, 64)        18496     \n",
      "                                                                 \n",
      " max_pooling2d_1 (MaxPooling  (None, 6, 19, 64)        0         \n",
      " 2D)                                                             \n",
      "                                                                 \n",
      " conv2d_2 (Conv2D)           (None, 4, 17, 64)         36928     \n",
      "                                                                 \n",
      "=================================================================\n",
      "Total params: 55,744\n",
      "Trainable params: 55,744\n",
      "Non-trainable params: 0\n",
      "_________________________________________________________________\n"
     ]
    }
   ],
   "source": [
    "model.summary()"
   ]
  },
  {
   "cell_type": "code",
   "execution_count": 23,
   "id": "019ea96f-06cb-40de-b6d9-3d490c7adfb6",
   "metadata": {},
   "outputs": [],
   "source": [
    "model.add(layers.Flatten())\n",
    "model.add(layers.Dense(64, activation='relu'))\n",
    "model.add(layers.Dense(10))\n",
    "\n"
   ]
  },
  {
   "cell_type": "code",
   "execution_count": 24,
   "id": "eddb3ed3-540e-44f1-94b9-582216e09a25",
   "metadata": {},
   "outputs": [
    {
     "name": "stdout",
     "output_type": "stream",
     "text": [
      "Model: \"sequential_1\"\n",
      "_________________________________________________________________\n",
      " Layer (type)                Output Shape              Param #   \n",
      "=================================================================\n",
      " conv2d (Conv2D)             (None, 30, 83, 32)        320       \n",
      "                                                                 \n",
      " max_pooling2d (MaxPooling2D  (None, 15, 41, 32)       0         \n",
      " )                                                               \n",
      "                                                                 \n",
      " conv2d_1 (Conv2D)           (None, 13, 39, 64)        18496     \n",
      "                                                                 \n",
      " max_pooling2d_1 (MaxPooling  (None, 6, 19, 64)        0         \n",
      " 2D)                                                             \n",
      "                                                                 \n",
      " conv2d_2 (Conv2D)           (None, 4, 17, 64)         36928     \n",
      "                                                                 \n",
      " flatten_2 (Flatten)         (None, 4352)              0         \n",
      "                                                                 \n",
      " dense_4 (Dense)             (None, 64)                278592    \n",
      "                                                                 \n",
      " dense_5 (Dense)             (None, 10)                650       \n",
      "                                                                 \n",
      "=================================================================\n",
      "Total params: 334,986\n",
      "Trainable params: 334,986\n",
      "Non-trainable params: 0\n",
      "_________________________________________________________________\n"
     ]
    }
   ],
   "source": [
    "model.summary()"
   ]
  },
  {
   "cell_type": "code",
   "execution_count": 25,
   "id": "a9772f70-ca30-40cc-8f2d-570becfcba31",
   "metadata": {},
   "outputs": [
    {
     "name": "stdout",
     "output_type": "stream",
     "text": [
      "Epoch 1/10\n",
      "438/438 [==============================] - 42s 88ms/step - loss: 0.3420 - accuracy: 0.8890 - val_loss: 0.0130 - val_accuracy: 0.9975\n",
      "Epoch 2/10\n",
      "438/438 [==============================] - 37s 84ms/step - loss: 0.0188 - accuracy: 0.9946 - val_loss: 0.0142 - val_accuracy: 0.9960\n",
      "Epoch 3/10\n",
      "438/438 [==============================] - 36s 82ms/step - loss: 0.0124 - accuracy: 0.9966 - val_loss: 0.0267 - val_accuracy: 0.9938\n",
      "Epoch 4/10\n",
      "438/438 [==============================] - 35s 81ms/step - loss: 0.0135 - accuracy: 0.9964 - val_loss: 0.0151 - val_accuracy: 0.9955\n",
      "Epoch 5/10\n",
      "438/438 [==============================] - 36s 83ms/step - loss: 0.0038 - accuracy: 0.9989 - val_loss: 0.0012 - val_accuracy: 0.9998\n",
      "Epoch 6/10\n",
      "438/438 [==============================] - 33s 76ms/step - loss: 0.0014 - accuracy: 0.9995 - val_loss: 0.0012 - val_accuracy: 0.9998\n",
      "Epoch 7/10\n",
      "438/438 [==============================] - 35s 79ms/step - loss: 0.0103 - accuracy: 0.9971 - val_loss: 0.0015 - val_accuracy: 0.9998\n",
      "Epoch 8/10\n",
      "438/438 [==============================] - 36s 83ms/step - loss: 1.5393e-04 - accuracy: 1.0000 - val_loss: 0.0016 - val_accuracy: 0.9997\n",
      "Epoch 9/10\n",
      "438/438 [==============================] - 36s 83ms/step - loss: 2.3987e-05 - accuracy: 1.0000 - val_loss: 0.0016 - val_accuracy: 0.9998\n",
      "Epoch 10/10\n",
      "438/438 [==============================] - 36s 83ms/step - loss: 1.5331e-05 - accuracy: 1.0000 - val_loss: 0.0017 - val_accuracy: 0.9997\n"
     ]
    }
   ],
   "source": [
    "model.compile(optimizer='adam',\n",
    "              loss=tf.keras.losses.SparseCategoricalCrossentropy(from_logits=True),\n",
    "              metrics=['accuracy'])\n",
    "\n",
    "history = model.fit(X_train, Y_train, epochs=10, \n",
    "                    validation_data=(X_test, Y_test))"
   ]
  },
  {
   "cell_type": "code",
   "execution_count": 26,
   "id": "dd26ddf8-aa00-4850-a7e0-9f0633360d54",
   "metadata": {},
   "outputs": [
    {
     "name": "stdout",
     "output_type": "stream",
     "text": [
      "188/188 - 5s - loss: 0.0017 - accuracy: 0.9997 - 5s/epoch - 26ms/step\n"
     ]
    },
    {
     "data": {
      "image/png": "[encoded data removed]",
      "text/plain": [
       "<Figure size 432x288 with 1 Axes>"
      ]
     },
     "metadata": {
      "needs_background": "light"
     },
     "output_type": "display_data"
    }
   ],
   "source": [
    "plt.plot(history.history['accuracy'], label='accuracy')\n",
    "plt.plot(history.history['val_accuracy'], label = 'val_accuracy')\n",
    "plt.xlabel('Epoch')\n",
    "plt.ylabel('Accuracy')\n",
    "\n",
    "test_loss, test_acc = model.evaluate(X_test,  Y_test, verbose=2)"
   ]
  },
  {
   "cell_type": "code",
   "execution_count": 29,
   "id": "c10c16e4-348c-4043-a0be-56d975dea324",
   "metadata": {},
   "outputs": [
    {
     "name": "stdout",
     "output_type": "stream",
     "text": [
      "0.999666690826416\n"
     ]
    }
   ],
   "source": [
    "print(test_acc)"
   ]
  }
 ],
 "metadata": {
  "kernelspec": {
   "display_name": "Python 3 (ipykernel)",
   "language": "python",
   "name": "python3"
  },
  "language_info": {
   "codemirror_mode": {
    "name": "ipython",
    "version": 3
   },
   "file_extension": ".py",
   "mimetype": "text/x-python",
   "name": "python",
   "nbconvert_exporter": "python",
   "pygments_lexer": "ipython3",
   "version": "3.9.7"
  }
 },
 "nbformat": 4,
 "nbformat_minor": 5
}
